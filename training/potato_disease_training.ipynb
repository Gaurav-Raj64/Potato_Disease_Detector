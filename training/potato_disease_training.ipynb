{
 "cells": [
  {
   "cell_type": "markdown",
   "id": "f7478cc5",
   "metadata": {},
   "source": [
    "# Potato Disease Training (MobileNetV2)\n",
    "This notebook shows a transfer-learning workflow using MobileNetV2."
   ]
  },
  {
   "cell_type": "code",
   "execution_count": null,
   "id": "c15af3f9",
   "metadata": {},
   "outputs": [],
   "source": [
    "import tensorflow as tf\n",
    "print('tf version', tf.__version__)"
   ]
  },
  {
   "cell_type": "code",
   "execution_count": null,
   "id": "d0f3e277",
   "metadata": {},
   "outputs": [],
   "source": [
    "# Add dataset loading and training code here (or run training/train.py)\n",
    "print('Use training/train.py for scripted runs')"
   ]
  }
 ],
 "metadata": {},
 "nbformat": 4,
 "nbformat_minor": 5
}
